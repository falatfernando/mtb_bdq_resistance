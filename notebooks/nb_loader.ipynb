{
 "cells": [
  {
   "cell_type": "markdown",
   "metadata": {},
   "source": [
    "## **Data Warehouse Loader Notebook**\n",
    "\n",
    "This notebook loads data into SQLite schema. This approach is being used to store and access data more efficiently than pure pandas dataframes."
   ]
  },
  {
   "cell_type": "markdown",
   "metadata": {},
   "source": [
    "#### ***Environment Configuration***\n",
    "\n",
    "Helper python file to proper handle db integration"
   ]
  },
  {
   "cell_type": "code",
   "execution_count": 1,
   "metadata": {},
   "outputs": [
    {
     "name": "stdout",
     "output_type": "stream",
     "text": [
      "✅ Environment configured successfully!\n"
     ]
    }
   ],
   "source": [
    "# Setup project environment\n",
    "import sys\n",
    "from pathlib import Path\n",
    "\n",
    "# Import setup_project\n",
    "sys.path.append(str(Path.cwd()))\n",
    "from setup_project import setup_environment\n",
    "\n",
    "# Run setup\n",
    "paths = setup_environment()\n",
    "\n",
    "db_path = paths['DB_PATH']\n",
    "raw_layer = paths['RAW_DATA_DIR']"
   ]
  },
  {
   "cell_type": "markdown",
   "metadata": {},
   "source": [
    "#### ***Data Warehouse Connection***\n",
    "Function to check if data warehouse is available, recreate if not."
   ]
  },
  {
   "cell_type": "code",
   "execution_count": 2,
   "metadata": {},
   "outputs": [
    {
     "name": "stdout",
     "output_type": "stream",
     "text": [
      "✅ Connected to database at /home/falatfernando/Desktop/bdq_resistance_study/mtb_resistance_db/mtb_warehouse.db\n"
     ]
    }
   ],
   "source": [
    "from sqlalchemy import create_engine, inspect, MetaData\n",
    "\n",
    "# Create database file if missing\n",
    "if not db_path.exists():\n",
    "    print(f\"Database not found at {db_path}, creating a new one...\")\n",
    "    db_path.parent.mkdir(parents=True, exist_ok=True)\n",
    "    db_path.touch()\n",
    "\n",
    "engine = create_engine(f\"sqlite:///{db_path}\")\n",
    "connection = engine.connect()\n",
    "inspector = inspect(engine)\n",
    "metadata = MetaData()\n",
    "\n",
    "print(f\"✅ Connected to database at {db_path}\")"
   ]
  },
  {
   "cell_type": "markdown",
   "metadata": {},
   "source": [
    "#### ***Data Warehouse Quick Overview***\n",
    "\n",
    "Just a little debug step so I can know the db content and if things are correctly connected."
   ]
  },
  {
   "cell_type": "code",
   "execution_count": 3,
   "metadata": {},
   "outputs": [
    {
     "name": "stdout",
     "output_type": "stream",
     "text": [
      "Tables in database: ['ref_genome_annotation', 'reference_genome', 'sample_genome']\n",
      "\n",
      "Columns in ref_genome_annotation:\n",
      "  id: INTEGER\n",
      "  genome_type: VARCHAR\n",
      "  gene_name: VARCHAR\n",
      "  start_pos: INTEGER\n",
      "  end_pos: INTEGER\n",
      "  strand: VARCHAR\n",
      "  product: VARCHAR\n",
      "\n",
      "Columns in reference_genome:\n",
      "  id: INTEGER\n",
      "  genome_type: VARCHAR\n",
      "  chromosome: VARCHAR\n",
      "  position: INTEGER\n",
      "  base: VARCHAR\n",
      "\n",
      "Columns in sample_genome:\n",
      "  id: INTEGER\n",
      "  genome_type: VARCHAR\n",
      "  sample_name: VARCHAR\n",
      "  chromosome: VARCHAR\n",
      "  position: INTEGER\n",
      "  base: VARCHAR\n",
      "  reference_id: INTEGER\n"
     ]
    }
   ],
   "source": [
    "# Get all table names\n",
    "table_names = inspector.get_table_names()\n",
    "print(\"Tables in database:\", table_names)\n",
    "\n",
    "# Get schema information for a specific table\n",
    "for table_name in table_names:\n",
    "    columns = inspector.get_columns(table_name)\n",
    "    print(f\"\\nColumns in {table_name}:\")\n",
    "    for column in columns:\n",
    "        print(f\"  {column['name']}: {column['type']}\")"
   ]
  },
  {
   "cell_type": "markdown",
   "metadata": {},
   "source": [
    "####  ***Actual Schema Table Materialization*** ⚠️\n",
    "\n",
    "Those cells actually materializes tables into the connected SQLite Data Warehouse. Be careful when running!"
   ]
  },
  {
   "cell_type": "code",
   "execution_count": 4,
   "metadata": {},
   "outputs": [],
   "source": [
    "# Handling paths for SQLAlchemy modules imports\n",
    "import sys\n",
    "import os\n",
    "\n",
    "parent_dir = os.path.abspath(os.path.join(os.getcwd(), '..'))\n",
    "if parent_dir not in sys.path:\n",
    "    sys.path.insert(0, parent_dir)"
   ]
  },
  {
   "cell_type": "markdown",
   "metadata": {},
   "source": [
    "##### **Populating ReferenceGenome table with H37Rv reference genome from raw layer**"
   ]
  },
  {
   "cell_type": "code",
   "execution_count": 5,
   "metadata": {},
   "outputs": [],
   "source": [
    "# Reference Sequence\n",
    "import gzip\n",
    "from mtb_resistance_db.database import session\n",
    "from mtb_resistance_db.models import ReferenceGenome\n",
    "\n",
    "def load_fasta_gz_bulk(filepath, batch_size=10000):\n",
    "    batch = []\n",
    "    chrom = None\n",
    "    pos = 0\n",
    "\n",
    "    with gzip.open(filepath, 'rt') as fh:\n",
    "        for line in fh:\n",
    "            line = line.strip()\n",
    "            if line.startswith('>'):\n",
    "                chrom = line[1:]\n",
    "                pos = 1\n",
    "            else:\n",
    "                for base in line:\n",
    "                    batch.append({\n",
    "                        'genome_type': 'H37Rv reference',\n",
    "                        'chromosome': chrom,\n",
    "                        'position': pos,\n",
    "                        'base': base\n",
    "                    })\n",
    "                    pos += 1\n",
    "\n",
    "                    # Once batch_full, flush to DB\n",
    "                    if len(batch) >= batch_size:\n",
    "                        session.bulk_insert_mappings(ReferenceGenome, batch)\n",
    "                        session.commit()\n",
    "                        batch.clear()\n",
    "\n",
    "    # Insert any remainder\n",
    "    if batch:\n",
    "        session.bulk_insert_mappings(ReferenceGenome, batch)\n",
    "        session.commit()"
   ]
  },
  {
   "cell_type": "code",
   "execution_count": 6,
   "metadata": {},
   "outputs": [],
   "source": [
    "raw_reference_fasta_path = os.path.join(raw_layer, 'GCF_000195955.2_ASM19595v2_genomic.fna.gz')\n",
    "load_fasta_gz_bulk(raw_reference_fasta_path)"
   ]
  },
  {
   "cell_type": "markdown",
   "metadata": {},
   "source": [
    "##### **Populating GeneAnnotation table with H37Rv reference annotations from raw layer**"
   ]
  },
  {
   "cell_type": "code",
   "execution_count": 7,
   "metadata": {},
   "outputs": [],
   "source": [
    "import gzip\n",
    "from mtb_resistance_db.database import session\n",
    "from mtb_resistance_db.models import GeneAnnotation\n",
    "\n",
    "def load_gtf_gz(filepath):\n",
    "    batch = []  # Prepare a batch list to accumulate data\n",
    "    with gzip.open(filepath, 'rt') as f:\n",
    "        for line in f:\n",
    "            if line.startswith('#'):\n",
    "                continue  # Skip comments\n",
    "            parts = line.strip().split('\\t')\n",
    "            if len(parts) >= 9:\n",
    "                genome_type = parts[0]\n",
    "                feature = parts[2]\n",
    "                start = int(parts[3])\n",
    "                end = int(parts[4])\n",
    "                strand = parts[6]\n",
    "                attributes = parts[8]\n",
    "                \n",
    "                # Extract gene_name from attributes\n",
    "                gene_name = None\n",
    "                for attribute in attributes.split(';'):\n",
    "                    if 'gene_name' in attribute:\n",
    "                        gene_name = attribute.split('\"')[1]\n",
    "                        break\n",
    "                \n",
    "                if gene_name and feature == 'gene':\n",
    "                    batch.append({\n",
    "                        'genome_type': genome_type,\n",
    "                        'gene_name': gene_name,\n",
    "                        'start_pos': start,\n",
    "                        'end_pos': end,\n",
    "                        'strand': strand,\n",
    "                        'product': None  # You can parse 'product' if available\n",
    "                    })\n",
    "\n",
    "                # Commit in batches of 1000 to prevent memory issues and improve speed\n",
    "                if len(batch) >= 1000:\n",
    "                    session.bulk_insert_mappings(GeneAnnotation, batch)\n",
    "                    session.commit()\n",
    "                    batch.clear()  # Clear the batch after commit\n",
    "\n",
    "    # Final commit for any remaining data in the batch\n",
    "    if batch:\n",
    "        session.bulk_insert_mappings(GeneAnnotation, batch)\n",
    "        session.commit()"
   ]
  },
  {
   "cell_type": "code",
   "execution_count": 8,
   "metadata": {},
   "outputs": [],
   "source": [
    "raw_reference_gtf_path = os.path.join(raw_layer, 'GCF_000195955.2_ASM19595v2_genomic.gtf.gz')\n",
    "load_gtf_gz(raw_reference_gtf_path)"
   ]
  }
 ],
 "metadata": {
  "kernelspec": {
   "display_name": "venv",
   "language": "python",
   "name": "python3"
  },
  "language_info": {
   "codemirror_mode": {
    "name": "ipython",
    "version": 3
   },
   "file_extension": ".py",
   "mimetype": "text/x-python",
   "name": "python",
   "nbconvert_exporter": "python",
   "pygments_lexer": "ipython3",
   "version": "3.12.3"
  }
 },
 "nbformat": 4,
 "nbformat_minor": 2
}
