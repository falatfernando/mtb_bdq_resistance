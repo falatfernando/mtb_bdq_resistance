{
 "cells": [
  {
   "cell_type": "markdown",
   "metadata": {},
   "source": [
    "## **Data Warehouse Loader Notebook**\n",
    "\n",
    "This notebook loads data into SQLite schema. This approach is being used to store and access data more efficiently than pure pandas dataframes."
   ]
  },
  {
   "cell_type": "markdown",
   "metadata": {},
   "source": [
    "#### ***Environment Configuration***\n",
    "\n",
    "Helper python file to proper handle db integration"
   ]
  },
  {
   "cell_type": "code",
   "execution_count": 1,
   "metadata": {},
   "outputs": [
    {
     "name": "stdout",
     "output_type": "stream",
     "text": [
      "✅ Environment configured successfully!\n"
     ]
    }
   ],
   "source": [
    "# Setup project environment\n",
    "import sys\n",
    "from pathlib import Path\n",
    "\n",
    "# Import setup_project\n",
    "sys.path.append(str(Path.cwd()))\n",
    "from setup_project import setup_environment\n",
    "\n",
    "# Run setup\n",
    "paths = setup_environment()\n",
    "\n",
    "db_path = paths['DB_PATH']"
   ]
  },
  {
   "cell_type": "markdown",
   "metadata": {},
   "source": [
    "#### ***Data Warehouse Connection***\n",
    "Function to check if data warehouse is available, recreate if not."
   ]
  },
  {
   "cell_type": "code",
   "execution_count": 2,
   "metadata": {},
   "outputs": [
    {
     "name": "stdout",
     "output_type": "stream",
     "text": [
      "✅ Connected to database at /home/falatfernando/Desktop/bdq_resistance_study/mtb_resistance_db/mtb_resistance.db\n"
     ]
    }
   ],
   "source": [
    "from sqlalchemy import create_engine, inspect, MetaData\n",
    "\n",
    "# Create database file if missing\n",
    "if not db_path.exists():\n",
    "    print(f\"Database not found at {db_path}, creating a new one...\")\n",
    "    db_path.parent.mkdir(parents=True, exist_ok=True)\n",
    "    db_path.touch()\n",
    "\n",
    "engine = create_engine(f\"sqlite:///{db_path}\")\n",
    "connection = engine.connect()\n",
    "inspector = inspect(engine)\n",
    "metadata = MetaData()\n",
    "\n",
    "print(f\"✅ Connected to database at {db_path}\")"
   ]
  },
  {
   "cell_type": "markdown",
   "metadata": {},
   "source": [
    "#### ***Data Warehouse Quick Overview***\n",
    "\n",
    "Just a little debug step so I can know the db content and if things are correctly connected."
   ]
  },
  {
   "cell_type": "code",
   "execution_count": 3,
   "metadata": {},
   "outputs": [
    {
     "name": "stdout",
     "output_type": "stream",
     "text": [
      "Tables in database: ['reference_genome']\n",
      "\n",
      "Columns in reference_genome:\n",
      "  id: INTEGER\n",
      "  seq_id: VARCHAR\n",
      "  source: VARCHAR\n",
      "  feature: VARCHAR\n",
      "  start: INTEGER\n",
      "  end: INTEGER\n",
      "  score: FLOAT\n",
      "  strand: VARCHAR\n",
      "  frame: VARCHAR\n",
      "  attribute: VARCHAR\n"
     ]
    }
   ],
   "source": [
    "# Get all table names\n",
    "table_names = inspector.get_table_names()\n",
    "print(\"Tables in database:\", table_names)\n",
    "\n",
    "# Get schema information for a specific table\n",
    "for table_name in table_names:\n",
    "    columns = inspector.get_columns(table_name)\n",
    "    print(f\"\\nColumns in {table_name}:\")\n",
    "    for column in columns:\n",
    "        print(f\"  {column['name']}: {column['type']}\")"
   ]
  },
  {
   "cell_type": "markdown",
   "metadata": {},
   "source": [
    "####  ***Actual Schema Table Materialization*** ⚠️\n",
    "\n",
    "Those cells actually materializes tables into the connected SQLite Data Warehouse. Be careful when running!"
   ]
  },
  {
   "cell_type": "code",
   "execution_count": null,
   "metadata": {},
   "outputs": [],
   "source": [
    "from sqlalchemy import Table, Column, Integer, String, Float, MetaData\n",
    "\n",
    "metadata = MetaData()\n",
    "\n",
    "reference_genome = Table(\n",
    "    \"h37rv_reference_metadata\",\n",
    "    metadata,\n",
    "    Column(\"id\", Integer, primary_key=True, autoincrement=True),\n",
    "    Column(\"seq_id\", String),\n",
    "    Column(\"source\", String),\n",
    "    Column(\"feature\", String),\n",
    "    Column(\"start\", Integer),\n",
    "    Column(\"end\", Integer),\n",
    "    Column(\"score\", Float),\n",
    "    Column(\"strand\", String),\n",
    "    Column(\"frame\", String),\n",
    "    Column(\"attribute\", String),\n",
    ")"
   ]
  },
  {
   "cell_type": "code",
   "execution_count": null,
   "metadata": {},
   "outputs": [],
   "source": [
    "metadata.create_all(engine)"
   ]
  },
  {
   "cell_type": "code",
   "execution_count": null,
   "metadata": {},
   "outputs": [],
   "source": [
    "def parse_gtf(gtf_path):\n",
    "    columns = [\n",
    "        \"seq_id\", \"source\", \"feature\", \n",
    "        \"start\", \"end\", \"score\", \n",
    "        \"strand\", \"frame\", \"attribute\"\n",
    "    ]\n",
    "    gtf = pd.read_csv(\n",
    "        gtf_path, \n",
    "        sep=\"\\t\", \n",
    "        comment=\"#\", \n",
    "        names=columns,\n",
    "        compression=\"gzip\"\n",
    "    )\n",
    "    return gtf\n",
    "\n",
    "# Load the GTF\n",
    "gtf_df = parse_gtf(os.path.join(raw_data_dir, \"GCF_000195955.2_ASM19595v2_genomic.gtf.gz\"))\n",
    "\n",
    "# Insert into database\n",
    "gtf_df.to_sql(\"reference_genome\", con=engine, if_exists=\"append\", index=False)\n"
   ]
  },
  {
   "cell_type": "code",
   "execution_count": null,
   "metadata": {},
   "outputs": [],
   "source": [
    "import pandas as pd\n",
    "from sqlalchemy import create_engine\n",
    "\n",
    "df = pd.read_sql(\"SELECT * FROM reference_genome LIMIT 10\", engine)"
   ]
  }
 ],
 "metadata": {
  "kernelspec": {
   "display_name": "venv",
   "language": "python",
   "name": "python3"
  },
  "language_info": {
   "codemirror_mode": {
    "name": "ipython",
    "version": 3
   },
   "file_extension": ".py",
   "mimetype": "text/x-python",
   "name": "python",
   "nbconvert_exporter": "python",
   "pygments_lexer": "ipython3",
   "version": "3.12.3"
  }
 },
 "nbformat": 4,
 "nbformat_minor": 2
}
