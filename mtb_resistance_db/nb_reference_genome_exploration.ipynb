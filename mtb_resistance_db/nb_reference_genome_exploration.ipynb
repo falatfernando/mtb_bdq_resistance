{
 "cells": [
  {
   "cell_type": "markdown",
   "id": "933a5884",
   "metadata": {},
   "source": [
    "## **H37Rv Complete Genome and Annotations**\n",
    "\n",
    "This notebook contains some exploratory data analysis of the FASTA and GTF for H37Rv *Mycobacterium tuberculosis* genome"
   ]
  },
  {
   "cell_type": "code",
   "execution_count": 1,
   "id": "705863cc",
   "metadata": {},
   "outputs": [],
   "source": [
    "import pandas as pd\n",
    "import gzip\n",
    "import os\n",
    "\n",
    "from Bio import SeqIO\n",
    "import gffutils"
   ]
  },
  {
   "cell_type": "code",
   "execution_count": 2,
   "id": "a140d3d3",
   "metadata": {},
   "outputs": [],
   "source": [
    "fasta_file = \"raw/GCF_000195955.2_ASM19595v2_genomic.fna.gz\"\n",
    "gff_file = \"raw/GCF_000195955.2_ASM19595v2_genomic.gtf.gz\""
   ]
  },
  {
   "cell_type": "markdown",
   "id": "fe5f640f",
   "metadata": {},
   "source": [
    "#### **Reference genome FASTA exploration**"
   ]
  },
  {
   "cell_type": "code",
   "execution_count": 7,
   "id": "84272bb6",
   "metadata": {},
   "outputs": [],
   "source": [
    "# Sequence metadata (no sequence string)\n",
    "\n",
    "seq_metadata = []\n",
    "with gzip.open(fasta_file, \"rt\") as handle:\n",
    "    for record in SeqIO.parse(handle, \"fasta\"):\n",
    "        seq_metadata.append({\n",
    "            'genome_type': 'H37Rv Reference',\n",
    "            'sequence_id': record.id,\n",
    "            'description': record.description,\n",
    "            'length': len(record.seq),\n",
    "            'gc_content': (str(record.seq).count('G') + str(record.seq).count('C')) / len(record.seq)\n",
    "        })\n",
    "\n",
    "df_seq_metadata = pd.DataFrame(seq_metadata)"
   ]
  },
  {
   "cell_type": "code",
   "execution_count": 8,
   "id": "ca76777b",
   "metadata": {},
   "outputs": [
    {
     "data": {
      "text/html": [
       "<div>\n",
       "<style scoped>\n",
       "    .dataframe tbody tr th:only-of-type {\n",
       "        vertical-align: middle;\n",
       "    }\n",
       "\n",
       "    .dataframe tbody tr th {\n",
       "        vertical-align: top;\n",
       "    }\n",
       "\n",
       "    .dataframe thead th {\n",
       "        text-align: right;\n",
       "    }\n",
       "</style>\n",
       "<table border=\"1\" class=\"dataframe\">\n",
       "  <thead>\n",
       "    <tr style=\"text-align: right;\">\n",
       "      <th></th>\n",
       "      <th>genome_type</th>\n",
       "      <th>sequence_id</th>\n",
       "      <th>description</th>\n",
       "      <th>length</th>\n",
       "      <th>gc_content</th>\n",
       "    </tr>\n",
       "  </thead>\n",
       "  <tbody>\n",
       "    <tr>\n",
       "      <th>0</th>\n",
       "      <td>H37Rv Reference</td>\n",
       "      <td>NC_000962.3</td>\n",
       "      <td>NC_000962.3 Mycobacterium tuberculosis H37Rv, ...</td>\n",
       "      <td>4411532</td>\n",
       "      <td>0.656147</td>\n",
       "    </tr>\n",
       "  </tbody>\n",
       "</table>\n",
       "</div>"
      ],
      "text/plain": [
       "       genome_type  sequence_id  \\\n",
       "0  H37Rv Reference  NC_000962.3   \n",
       "\n",
       "                                         description   length  gc_content  \n",
       "0  NC_000962.3 Mycobacterium tuberculosis H37Rv, ...  4411532    0.656147  "
      ]
     },
     "execution_count": 8,
     "metadata": {},
     "output_type": "execute_result"
    }
   ],
   "source": [
    "df_seq_metadata.head()"
   ]
  },
  {
   "cell_type": "code",
   "execution_count": null,
   "id": "9ceb1206",
   "metadata": {},
   "outputs": [
    {
     "name": "stdout",
     "output_type": "stream",
     "text": [
      "       genome_type  sequence_id  position base\n",
      "0  H37Rv Reference  NC_000962.3         1    T\n",
      "1  H37Rv Reference  NC_000962.3         2    T\n",
      "2  H37Rv Reference  NC_000962.3         3    G\n",
      "3  H37Rv Reference  NC_000962.3         4    A\n",
      "4  H37Rv Reference  NC_000962.3         5    C\n"
     ]
    }
   ],
   "source": [
    "# Actual sequence\n",
    "sequences = {}\n",
    "with gzip.open(fasta_file, \"rt\") as handle:\n",
    "    for record in SeqIO.parse(handle, \"fasta\"):\n",
    "        sequences[record.id] = str(record.seq)\n",
    "\n",
    "# For alignment work, may need positions table \n",
    "def create_positions_table(seq_id, sequence, start_pos=0, max_positions=1000):\n",
    "    positions = []\n",
    "    for i, base in enumerate(sequence[:max_positions]):\n",
    "        positions.append({\n",
    "            'genome_type': 'H37Rv Reference',\n",
    "            'sequence_id': seq_id,\n",
    "            'position': start_pos + i + 1,  # 1-based position\n",
    "            'base': base\n",
    "        })\n",
    "    return positions\n",
    "\n",
    "# Example for first 1000 positions of first sequence\n",
    "first_seq_id = list(sequences.keys())[0]\n",
    "positions = create_positions_table(first_seq_id, sequences[first_seq_id])\n",
    "positions_df = pd.DataFrame(positions)\n",
    "print(positions_df.head())"
   ]
  },
  {
   "cell_type": "markdown",
   "id": "5be19775",
   "metadata": {},
   "source": [
    "#### **Reference Annotation exploration**"
   ]
  },
  {
   "cell_type": "code",
   "execution_count": null,
   "id": "bb1743e0",
   "metadata": {},
   "outputs": [],
   "source": [
    "seq_metadata = []\n",
    "with gzip.open(fasta_file, \"rt\") as handle:\n",
    "    for record in SeqIO.parse(handle, \"fasta\"):\n",
    "        seq_metadata.append({\n",
    "            'genome_type': 'H37Rv Reference',\n",
    "            'sequence_id': record.id,\n",
    "            'description': record.description,\n",
    "            'length': len(record.seq),\n",
    "            'gc_content': (str(record.seq).count('G') + str(record.seq).count('C')) / len(record.seq)\n",
    "        })"
   ]
  }
 ],
 "metadata": {
  "kernelspec": {
   "display_name": "venv",
   "language": "python",
   "name": "python3"
  },
  "language_info": {
   "codemirror_mode": {
    "name": "ipython",
    "version": 3
   },
   "file_extension": ".py",
   "mimetype": "text/x-python",
   "name": "python",
   "nbconvert_exporter": "python",
   "pygments_lexer": "ipython3",
   "version": "3.12.3"
  }
 },
 "nbformat": 4,
 "nbformat_minor": 5
}
