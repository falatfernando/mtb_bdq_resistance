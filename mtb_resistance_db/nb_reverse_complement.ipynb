{
 "cells": [
  {
   "cell_type": "code",
   "execution_count": 14,
   "id": "ca0c1f0a",
   "metadata": {},
   "outputs": [],
   "source": [
    "from Bio.Seq import Seq\n",
    "from sqlalchemy import create_engine, text"
   ]
  },
  {
   "cell_type": "code",
   "execution_count": 15,
   "id": "756fd565",
   "metadata": {},
   "outputs": [],
   "source": [
    "engine = create_engine(\"sqlite:///mtb_warehouse.db\")\n",
    "connection = engine.connect()"
   ]
  },
  {
   "cell_type": "code",
   "execution_count": 16,
   "id": "6a764d91",
   "metadata": {},
   "outputs": [],
   "source": [
    "query = text(\n",
    "    \"\"\"\n",
    "    SELECT base \n",
    "    FROM bdq_reference_mmpS5_rv0677c \n",
    "    ORDER BY position\n",
    "    \"\"\"\n",
    ")"
   ]
  },
  {
   "cell_type": "code",
   "execution_count": 17,
   "id": "bf42e5ce",
   "metadata": {},
   "outputs": [],
   "source": [
    "result = connection.execute(query)"
   ]
  },
  {
   "cell_type": "code",
   "execution_count": 18,
   "id": "f1e357b1",
   "metadata": {},
   "outputs": [],
   "source": [
    "sequence_str = \"\".join(row.base for row in result)"
   ]
  },
  {
   "cell_type": "code",
   "execution_count": 19,
   "id": "e4f56ce4",
   "metadata": {},
   "outputs": [],
   "source": [
    "strand = '-'"
   ]
  },
  {
   "cell_type": "code",
   "execution_count": 20,
   "id": "25f73b44",
   "metadata": {},
   "outputs": [],
   "source": [
    "if strand == '-':\n",
    "    rev_comp_seq = str(Seq(sequence_str).reverse_complement())\n",
    "else:\n",
    "    rev_comp_seq = sequence_str"
   ]
  },
  {
   "cell_type": "code",
   "execution_count": 21,
   "id": "93c9a7eb",
   "metadata": {},
   "outputs": [
    {
     "name": "stdout",
     "output_type": "stream",
     "text": [
      "Original Sequence (5' → 3'): ATCATGCGGATTTCACAAAGCAGTAGGTCAGGGCATCCACGCCGGTTGCGGTCCGCTCGTCCTTCACTTCGCCATCGACGGTGATTCGGCAGGTGATGGAAGTGCCGTCGCCTTGCGCGAGGATGTTGGGGGCCGCGGACGGCGCCGTGGTCTTCAAGGTGAGCGACCACGGCAGGGCTGCGCCGTCGATCCGCTGTGGCTTGGCGTCGAGGTCCAGGTAGTTGATGTTGACGTAACTACCGGAGCCGGAAACTTCGTACTCCACCACCTTGGGGTCGAACGGCTCCGGGTCATCGGCGAAGACCTTCGGCGTCACCAAGATGCCTTCGGAACCAAAGAAAGTGCGGATCCGCTGCACCGTGAAGCCGGCGATGGCGACCACAACCAGGATGAGCAGCGGTATCCAGGCACGCTTGAGAGTTCCAATCAT\n",
      "Reverse Complement (5' → 3'): ATGATTGGAACTCTCAAGCGTGCCTGGATACCGCTGCTCATCCTGGTTGTGGTCGCCATCGCCGGCTTCACGGTGCAGCGGATCCGCACTTTCTTTGGTTCCGAAGGCATCTTGGTGACGCCGAAGGTCTTCGCCGATGACCCGGAGCCGTTCGACCCCAAGGTGGTGGAGTACGAAGTTTCCGGCTCCGGTAGTTACGTCAACATCAACTACCTGGACCTCGACGCCAAGCCACAGCGGATCGACGGCGCAGCCCTGCCGTGGTCGCTCACCTTGAAGACCACGGCGCCGTCCGCGGCCCCCAACATCCTCGCGCAAGGCGACGGCACTTCCATCACCTGCCGAATCACCGTCGATGGCGAAGTGAAGGACGAGCGGACCGCAACCGGCGTGGATGCCCTGACCTACTGCTTTGTGAAATCCGCATGAT\n"
     ]
    }
   ],
   "source": [
    "print(\"Original Sequence (5' → 3'):\", sequence_str)\n",
    "print(\"Reverse Complement (5' → 3'):\", rev_comp_seq)"
   ]
  },
  {
   "cell_type": "code",
   "execution_count": 22,
   "id": "1196c716",
   "metadata": {},
   "outputs": [],
   "source": [
    "connection.close()"
   ]
  }
 ],
 "metadata": {
  "kernelspec": {
   "display_name": "venv",
   "language": "python",
   "name": "python3"
  },
  "language_info": {
   "codemirror_mode": {
    "name": "ipython",
    "version": 3
   },
   "file_extension": ".py",
   "mimetype": "text/x-python",
   "name": "python",
   "nbconvert_exporter": "python",
   "pygments_lexer": "ipython3",
   "version": "3.12.3"
  }
 },
 "nbformat": 4,
 "nbformat_minor": 5
}
