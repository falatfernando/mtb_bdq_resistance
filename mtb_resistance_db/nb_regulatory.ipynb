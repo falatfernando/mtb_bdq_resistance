{
 "cells": [
  {
   "cell_type": "code",
   "execution_count": 1,
   "id": "da16ef70",
   "metadata": {},
   "outputs": [
    {
     "data": {
      "text/html": [
       "<div>\n",
       "<style scoped>\n",
       "    .dataframe tbody tr th:only-of-type {\n",
       "        vertical-align: middle;\n",
       "    }\n",
       "\n",
       "    .dataframe tbody tr th {\n",
       "        vertical-align: top;\n",
       "    }\n",
       "\n",
       "    .dataframe thead th {\n",
       "        text-align: right;\n",
       "    }\n",
       "</style>\n",
       "<table border=\"1\" class=\"dataframe\">\n",
       "  <thead>\n",
       "    <tr style=\"text-align: right;\">\n",
       "      <th></th>\n",
       "      <th>genome_type</th>\n",
       "      <th>genome_position</th>\n",
       "      <th>element_type</th>\n",
       "      <th>associated_gene</th>\n",
       "      <th>sequence</th>\n",
       "    </tr>\n",
       "  </thead>\n",
       "  <tbody>\n",
       "    <tr>\n",
       "      <th>0</th>\n",
       "      <td>H37Rv reference</td>\n",
       "      <td>293603</td>\n",
       "      <td>ncRNA</td>\n",
       "      <td>RVnc0008</td>\n",
       "      <td>CGGATAGCCCCGTGTTGTTGTCTGACCCCCGACCCCGACGGCAATG...</td>\n",
       "    </tr>\n",
       "    <tr>\n",
       "      <th>1</th>\n",
       "      <td>H37Rv reference</td>\n",
       "      <td>704186</td>\n",
       "      <td>ncRNA</td>\n",
       "      <td>RVnc0005</td>\n",
       "      <td>CGGGACTCCTGAGAAGGATCCTGTAGGCCGCAGCCCCACCCACGGG...</td>\n",
       "    </tr>\n",
       "    <tr>\n",
       "      <th>2</th>\n",
       "      <td>H37Rv reference</td>\n",
       "      <td>918263</td>\n",
       "      <td>ncRNA</td>\n",
       "      <td>RVnc0002</td>\n",
       "      <td>CATAGAGGACGGAGTCGGTGAGGCTCTCCGCGAAATAGTGGCCCTG...</td>\n",
       "    </tr>\n",
       "    <tr>\n",
       "      <th>3</th>\n",
       "      <td>H37Rv reference</td>\n",
       "      <td>1220387</td>\n",
       "      <td>ncRNA</td>\n",
       "      <td>RVnc0034</td>\n",
       "      <td>AGCACACGCCATCCACCGTTGCACGTCTGCACCGCAAACGGCAGCC...</td>\n",
       "    </tr>\n",
       "    <tr>\n",
       "      <th>4</th>\n",
       "      <td>H37Rv reference</td>\n",
       "      <td>1283692</td>\n",
       "      <td>ncRNA</td>\n",
       "      <td>RVnc0012</td>\n",
       "      <td>TCGATGCCGGTCGGAAGATGTGCCTGCACACCTGGCTCGGCGCCCA...</td>\n",
       "    </tr>\n",
       "  </tbody>\n",
       "</table>\n",
       "</div>"
      ],
      "text/plain": [
       "       genome_type  genome_position element_type associated_gene  \\\n",
       "0  H37Rv reference           293603        ncRNA        RVnc0008   \n",
       "1  H37Rv reference           704186        ncRNA        RVnc0005   \n",
       "2  H37Rv reference           918263        ncRNA        RVnc0002   \n",
       "3  H37Rv reference          1220387        ncRNA        RVnc0034   \n",
       "4  H37Rv reference          1283692        ncRNA        RVnc0012   \n",
       "\n",
       "                                            sequence  \n",
       "0  CGGATAGCCCCGTGTTGTTGTCTGACCCCCGACCCCGACGGCAATG...  \n",
       "1  CGGGACTCCTGAGAAGGATCCTGTAGGCCGCAGCCCCACCCACGGG...  \n",
       "2  CATAGAGGACGGAGTCGGTGAGGCTCTCCGCGAAATAGTGGCCCTG...  \n",
       "3  AGCACACGCCATCCACCGTTGCACGTCTGCACCGCAAACGGCAGCC...  \n",
       "4  TCGATGCCGGTCGGAAGATGTGCCTGCACACCTGGCTCGGCGCCCA...  "
      ]
     },
     "metadata": {},
     "output_type": "display_data"
    }
   ],
   "source": [
    "from Bio import SeqIO\n",
    "import pandas as pd\n",
    "import gzip\n",
    "with gzip.open(\"raw/GCF_000195955.2_ASM19595v2_genomic.gbff.gz\", \"rt\") as handle:\n",
    "    records = list(SeqIO.parse(handle, \"genbank\"))\n",
    "\n",
    "reg_elements = []\n",
    "for record in records:\n",
    "    for feature in record.features:\n",
    "        if feature.type in [\"promoter\", \"UTR\", \"ncRNA\"]:\n",
    "            element_data = {\n",
    "                \"genome_type\": \"H37Rv reference\",\n",
    "                \"genome_position\": int(feature.location.start),\n",
    "                \"element_type\": feature.type,\n",
    "                \"associated_gene\": feature.qualifiers.get(\"locus_tag\", [\"\"])[0],\n",
    "                \"sequence\": str(feature.location.extract(record).seq),\n",
    "            }\n",
    "            reg_elements.append(element_data)\n",
    "\n",
    "df_reg = pd.DataFrame(reg_elements)\n",
    "display(df_reg.head())"
   ]
  },
  {
   "cell_type": "code",
   "execution_count": 2,
   "id": "ea489973",
   "metadata": {},
   "outputs": [],
   "source": [
    "df_reg.to_parquet('staging/reference_regulatory.parquet', index=False)"
   ]
  }
 ],
 "metadata": {
  "kernelspec": {
   "display_name": "venv",
   "language": "python",
   "name": "python3"
  },
  "language_info": {
   "codemirror_mode": {
    "name": "ipython",
    "version": 3
   },
   "file_extension": ".py",
   "mimetype": "text/x-python",
   "name": "python",
   "nbconvert_exporter": "python",
   "pygments_lexer": "ipython3",
   "version": "3.12.3"
  }
 },
 "nbformat": 4,
 "nbformat_minor": 5
}
